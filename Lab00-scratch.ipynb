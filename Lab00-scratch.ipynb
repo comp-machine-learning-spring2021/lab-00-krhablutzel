{
 "cells": [
  {
   "cell_type": "code",
   "execution_count": 1,
   "id": "nutritional-wednesday",
   "metadata": {},
   "outputs": [
    {
     "name": "stdout",
     "output_type": "stream",
     "text": [
      "Hello Jupyter\n"
     ]
    }
   ],
   "source": [
    "print (\"Hello Jupyter\")"
   ]
  },
  {
   "cell_type": "markdown",
   "id": "described-giving",
   "metadata": {},
   "source": [
    "**print(\"Hello Jupyter\")**"
   ]
  },
  {
   "cell_type": "code",
   "execution_count": 3,
   "id": "discrete-macedonia",
   "metadata": {},
   "outputs": [
    {
     "name": "stdout",
     "output_type": "stream",
     "text": [
      "HH\n",
      "ee\n",
      "ll\n",
      "ll\n",
      "oo\n",
      "  \n",
      "ww\n",
      "oo\n",
      "rr\n",
      "ll\n",
      "dd\n",
      "!!\n"
     ]
    }
   ],
   "source": [
    "for c in \"Hello world!\":\n",
    "    print(c*2)"
   ]
  },
  {
   "cell_type": "markdown",
   "id": "naval-representation",
   "metadata": {},
   "source": [
    "## Let's Make a Caesar Cipher\n",
    "#### Because we can, I guess"
   ]
  },
  {
   "cell_type": "code",
   "execution_count": 12,
   "id": "aggregate-constant",
   "metadata": {},
   "outputs": [
    {
     "name": "stdout",
     "output_type": "stream",
     "text": [
      "Enter a message here. Alpha only. thisiscool\n",
      "Enter an integer shift. 3\n",
      "Ciphertext: WKLVLVFRRO\n"
     ]
    }
   ],
   "source": [
    "ALPHA = \"ABCDEFGHIJKLMNOPQRSTUVWXYZ\"\n",
    "# get message\n",
    "ptext = input(\"Enter a message here. Alpha only, no spaces. \").upper()\n",
    "# get shift (int)\n",
    "shift = int(input(\"Enter an integer shift. \")) % 26\n",
    "\n",
    "# encrypt\n",
    "ctext = \"\"\n",
    "for c in ptext:\n",
    "    # find index in alpha, shift, find new character based on shift\n",
    "    ctext += ALPHA[((ALPHA.index(c) + shift) % 26)]\n",
    "\n",
    "print(\"Ciphertext: \" + ctext)"
   ]
  },
  {
   "cell_type": "markdown",
   "id": "approximate-organization",
   "metadata": {},
   "source": [
    "# Now\n",
    "## We\n",
    "### Play\n",
    "#### With\n",
    "##### Markdown\n",
    "\n",
    "* Because\n",
    "* Why\n",
    "* Not\n",
    "\n",
    "1. Numbered\n",
    "1. List\n",
    "1. :)"
   ]
  },
  {
   "cell_type": "code",
   "execution_count": 11,
   "id": "experimental-prisoner",
   "metadata": {
    "scrolled": true
   },
   "outputs": [
    {
     "name": "stdout",
     "output_type": "stream",
     "text": [
      "And that's at least 3 cells each!\n"
     ]
    }
   ],
   "source": [
    "print(\"And that's at least 3 cells each!\")"
   ]
  },
  {
   "cell_type": "markdown",
   "id": "standard-simulation",
   "metadata": {},
   "source": [
    "*See ya next lab!*"
   ]
  }
 ],
 "metadata": {
  "kernelspec": {
   "display_name": "Python 3",
   "language": "python",
   "name": "python3"
  },
  "language_info": {
   "codemirror_mode": {
    "name": "ipython",
    "version": 3
   },
   "file_extension": ".py",
   "mimetype": "text/x-python",
   "name": "python",
   "nbconvert_exporter": "python",
   "pygments_lexer": "ipython3",
   "version": "3.8.5"
  }
 },
 "nbformat": 4,
 "nbformat_minor": 5
}
